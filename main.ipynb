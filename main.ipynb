{
 "cells": [
  {
   "cell_type": "code",
   "execution_count": null,
   "id": "1050afbb",
   "metadata": {},
   "outputs": [],
   "source": [
    "from openai import OpenAI\n",
    "import pandas as pd\n",
    "import os\n",
    "from dotenv import load_dotenv\n",
    "\n",
    "load_dotenv()\n",
    "\n",
    "# Load OpenAI API key from .env file\n",
    "TOKEN = os.getenv('TOKEN')\n",
    "\n",
    "client = OpenAI(api_key=os.environ.get('TOKEN'))\n",
    "\n",
    "# Load housing data from CSV\n",
    "housing_data = pd.read_csv('Housing.csv')\n",
    "\n",
    "# Sends a request to the OpenAI GPT-3.5-turbo model to generate content.\n",
    "def make_openai_request(prompts, n=1):\n",
    "    try:\n",
    "        # Preparing messages for OpenAI API request\n",
    "        messages = [{\"role\": \"system\", \"content\": prompt} for prompt in prompts] + [{\"role\": \"user\", \"content\": \"\"}]\n",
    "        # Sending a request to the OpenAI API to generate content\n",
    "        response = client.chat.completions.create(\n",
    "            model=\"gpt-3.5-turbo\",\n",
    "            messages=messages,\n",
    "            max_tokens=150,\n",
    "            n=n,\n",
    "            stop=None,\n",
    "            temperature=0.7\n",
    "        )\n",
    "        return [choice.message.content for choice in response.choices]\n",
    "    except Exception as e:\n",
    "        print(f\"Error making OpenAI API request: {e}\")\n",
    "        return [\"Failed to generate post. Please check your input data.\"]\n",
    "    \n",
    "# Generates content for a real estate listing using OpenAI GPT-3.5-turbo.\n",
    "def generate_posts(entries, n=1):\n",
    "    prompts = [f\"Create an engaging Instagram post for this real estate listing:\\n\\n{entry}\\n\\nCaption: \" for entry in entries]\n",
    "    return make_openai_request(prompts, n)\n",
    "\n",
    "#The main function for organizing the process of generating content and saving the results in a file.\n",
    "def main():\n",
    "    examples = []\n",
    "    # Sample 20 different dataset entries without replacement\n",
    "    dataset_entries = housing_data.sample(n=20, replace=False).to_dict('records')\n",
    "    # Generate content for each property listing\n",
    "    post_texts = generate_posts(dataset_entries, n=20)\n",
    "\n",
    "    # Save examples to the list\n",
    "    for entry, post_text in zip(dataset_entries, post_texts):\n",
    "        examples.append(f\"price={entry['price']}\\narea={entry['area']}\\n{post_text}\\n------------------------\")\n",
    "            \n",
    "    # Save examples to EXAMPLE.txt\n",
    "    with open(\"EXAMPLE.txt\", \"w\", encoding=\"utf-8\") as example_file:\n",
    "        example_file.write(\"\\n\".join(examples))\n",
    "\n",
    "if __name__ == \"__main__\":\n",
    "    main()\n"
   ]
  },
  {
   "cell_type": "code",
   "execution_count": null,
   "id": "1fc6a9b4",
   "metadata": {},
   "outputs": [],
   "source": []
  }
 ],
 "metadata": {
  "kernelspec": {
   "display_name": "Python 3 (ipykernel)",
   "language": "python",
   "name": "python3"
  },
  "language_info": {
   "codemirror_mode": {
    "name": "ipython",
    "version": 3
   },
   "file_extension": ".py",
   "mimetype": "text/x-python",
   "name": "python",
   "nbconvert_exporter": "python",
   "pygments_lexer": "ipython3",
   "version": "3.11.1"
  }
 },
 "nbformat": 4,
 "nbformat_minor": 5
}
